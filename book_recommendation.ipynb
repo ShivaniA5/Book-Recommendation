{
 "cells": [
  {
   "cell_type": "markdown",
   "id": "8cdd4971",
   "metadata": {},
   "source": [
    "# Book Recommendation System\n",
    "\n",
    "Goal : To build a recommendation system that gives Top-5 recoomendations based on the contents of the last book read."
   ]
  },
  {
   "cell_type": "markdown",
   "id": "e3f6ce7f",
   "metadata": {},
   "source": [
    "## Importing libraries"
   ]
  },
  {
   "cell_type": "code",
   "execution_count": null,
   "id": "9d2939b7",
   "metadata": {},
   "outputs": [],
   "source": [
    "import pandas as pd\n",
    "import numpy as np\n",
    "import matplotlib.pyplot as plt\n",
    "import seaborn as sns\n",
    "\n",
    "import warnings\n",
    "warnings.filterwarnings('ignore')"
   ]
  },
  {
   "cell_type": "markdown",
   "id": "c6725acc",
   "metadata": {},
   "source": [
    "## Getting Data"
   ]
  },
  {
   "cell_type": "code",
   "execution_count": 2,
   "id": "13f8ab93",
   "metadata": {},
   "outputs": [],
   "source": [
    "books = pd.read_csv(\"goodreads_top100.csv\")"
   ]
  },
  {
   "cell_type": "code",
   "execution_count": 3,
   "id": "c07d4e3b",
   "metadata": {},
   "outputs": [
    {
     "data": {
      "text/html": [
       "<div>\n",
       "<style scoped>\n",
       "    .dataframe tbody tr th:only-of-type {\n",
       "        vertical-align: middle;\n",
       "    }\n",
       "\n",
       "    .dataframe tbody tr th {\n",
       "        vertical-align: top;\n",
       "    }\n",
       "\n",
       "    .dataframe thead th {\n",
       "        text-align: right;\n",
       "    }\n",
       "</style>\n",
       "<table border=\"1\" class=\"dataframe\">\n",
       "  <thead>\n",
       "    <tr style=\"text-align: right;\">\n",
       "      <th></th>\n",
       "      <th>Sequecence</th>\n",
       "      <th>Book</th>\n",
       "      <th>Series</th>\n",
       "      <th>Release number</th>\n",
       "      <th>Author</th>\n",
       "      <th>Description</th>\n",
       "      <th>Num Pages</th>\n",
       "      <th>Format</th>\n",
       "      <th>Genres</th>\n",
       "      <th>Publication Date</th>\n",
       "      <th>Rating</th>\n",
       "      <th>Number of voters</th>\n",
       "    </tr>\n",
       "  </thead>\n",
       "  <tbody>\n",
       "    <tr>\n",
       "      <th>0</th>\n",
       "      <td>0</td>\n",
       "      <td>The Restaurant at the End of the Universe</td>\n",
       "      <td>The Hitchhiker's Guide to the Galaxy</td>\n",
       "      <td>2</td>\n",
       "      <td>Douglas Adams</td>\n",
       "      <td>Facing annihilation at the hands of the warlik...</td>\n",
       "      <td>250.0</td>\n",
       "      <td>Paperback</td>\n",
       "      <td>['Science Fiction', 'Fiction', 'Humor', 'Fanta...</td>\n",
       "      <td>October 12, 1980</td>\n",
       "      <td>4.21</td>\n",
       "      <td>283375</td>\n",
       "    </tr>\n",
       "    <tr>\n",
       "      <th>1</th>\n",
       "      <td>1</td>\n",
       "      <td>The Name of the Rose</td>\n",
       "      <td>0</td>\n",
       "      <td>0</td>\n",
       "      <td>Umberto Eco</td>\n",
       "      <td>The year is 1327. Benedictines in a wealthy It...</td>\n",
       "      <td>536.0</td>\n",
       "      <td>Paperback</td>\n",
       "      <td>['Fiction', 'Historical Fiction', 'Mystery', '...</td>\n",
       "      <td>January 1, 1980</td>\n",
       "      <td>4.14</td>\n",
       "      <td>360732</td>\n",
       "    </tr>\n",
       "    <tr>\n",
       "      <th>2</th>\n",
       "      <td>2</td>\n",
       "      <td>The Clan of the Cave Bear</td>\n",
       "      <td>Earth's Children</td>\n",
       "      <td>1</td>\n",
       "      <td>Jean M. Auel</td>\n",
       "      <td>This novel of awesome beauty and power is a mo...</td>\n",
       "      <td>512.0</td>\n",
       "      <td>Paperback</td>\n",
       "      <td>['Historical Fiction', 'Fiction', 'Fantasy', '...</td>\n",
       "      <td>January 1, 1980</td>\n",
       "      <td>04.09</td>\n",
       "      <td>264630</td>\n",
       "    </tr>\n",
       "    <tr>\n",
       "      <th>3</th>\n",
       "      <td>3</td>\n",
       "      <td>Firestarter</td>\n",
       "      <td>0</td>\n",
       "      <td>0</td>\n",
       "      <td>Stephen King</td>\n",
       "      <td>The Department of Scientific Intelligence (aka...</td>\n",
       "      <td>564.0</td>\n",
       "      <td>Mass Market Paperback</td>\n",
       "      <td>['Horror', 'Fiction', 'Thriller', 'Science Fic...</td>\n",
       "      <td>September 29, 1980</td>\n",
       "      <td>3.91</td>\n",
       "      <td>226270</td>\n",
       "    </tr>\n",
       "    <tr>\n",
       "      <th>4</th>\n",
       "      <td>4</td>\n",
       "      <td>Cosmos</td>\n",
       "      <td>0</td>\n",
       "      <td>0</td>\n",
       "      <td>Carl Sagan</td>\n",
       "      <td>The story of fifteen billion years of cosmic e...</td>\n",
       "      <td>384.0</td>\n",
       "      <td>Mass Market Paperback</td>\n",
       "      <td>['Science', 'Nonfiction', 'Physics', 'Astronom...</td>\n",
       "      <td>January 1, 1980</td>\n",
       "      <td>4.39</td>\n",
       "      <td>144686</td>\n",
       "    </tr>\n",
       "  </tbody>\n",
       "</table>\n",
       "</div>"
      ],
      "text/plain": [
       "   Sequecence                                       Book  \\\n",
       "0           0  The Restaurant at the End of the Universe   \n",
       "1           1                       The Name of the Rose   \n",
       "2           2                  The Clan of the Cave Bear   \n",
       "3           3                                Firestarter   \n",
       "4           4                                     Cosmos   \n",
       "\n",
       "                                 Series Release number         Author  \\\n",
       "0  The Hitchhiker's Guide to the Galaxy              2  Douglas Adams   \n",
       "1                                     0              0    Umberto Eco   \n",
       "2                      Earth's Children              1   Jean M. Auel   \n",
       "3                                     0              0   Stephen King   \n",
       "4                                     0              0     Carl Sagan   \n",
       "\n",
       "                                         Description  Num Pages  \\\n",
       "0  Facing annihilation at the hands of the warlik...      250.0   \n",
       "1  The year is 1327. Benedictines in a wealthy It...      536.0   \n",
       "2  This novel of awesome beauty and power is a mo...      512.0   \n",
       "3  The Department of Scientific Intelligence (aka...      564.0   \n",
       "4  The story of fifteen billion years of cosmic e...      384.0   \n",
       "\n",
       "                  Format                                             Genres  \\\n",
       "0              Paperback  ['Science Fiction', 'Fiction', 'Humor', 'Fanta...   \n",
       "1              Paperback  ['Fiction', 'Historical Fiction', 'Mystery', '...   \n",
       "2              Paperback  ['Historical Fiction', 'Fiction', 'Fantasy', '...   \n",
       "3  Mass Market Paperback  ['Horror', 'Fiction', 'Thriller', 'Science Fic...   \n",
       "4  Mass Market Paperback  ['Science', 'Nonfiction', 'Physics', 'Astronom...   \n",
       "\n",
       "     Publication Date Rating  Number of voters  \n",
       "0    October 12, 1980   4.21            283375  \n",
       "1     January 1, 1980   4.14            360732  \n",
       "2     January 1, 1980  04.09            264630  \n",
       "3  September 29, 1980   3.91            226270  \n",
       "4     January 1, 1980   4.39            144686  "
      ]
     },
     "execution_count": 3,
     "metadata": {},
     "output_type": "execute_result"
    }
   ],
   "source": [
    "books.head()"
   ]
  },
  {
   "cell_type": "code",
   "execution_count": 4,
   "id": "fd280f9f",
   "metadata": {},
   "outputs": [
    {
     "name": "stdout",
     "output_type": "stream",
     "text": [
      "<class 'pandas.core.frame.DataFrame'>\n",
      "RangeIndex: 4400 entries, 0 to 4399\n",
      "Data columns (total 12 columns):\n",
      " #   Column            Non-Null Count  Dtype  \n",
      "---  ------            --------------  -----  \n",
      " 0   Sequecence        4400 non-null   int64  \n",
      " 1   Book              4400 non-null   object \n",
      " 2   Series            4400 non-null   object \n",
      " 3   Release number    4400 non-null   object \n",
      " 4   Author            4400 non-null   object \n",
      " 5   Description       4400 non-null   object \n",
      " 6   Num Pages         4366 non-null   float64\n",
      " 7   Format            4400 non-null   object \n",
      " 8   Genres            4400 non-null   object \n",
      " 9   Publication Date  4400 non-null   object \n",
      " 10  Rating            4400 non-null   object \n",
      " 11  Number of voters  4400 non-null   int64  \n",
      "dtypes: float64(1), int64(2), object(9)\n",
      "memory usage: 412.6+ KB\n"
     ]
    }
   ],
   "source": [
    "books.info()"
   ]
  },
  {
   "cell_type": "code",
   "execution_count": 5,
   "id": "564a7271",
   "metadata": {},
   "outputs": [],
   "source": [
    "df = books.copy()"
   ]
  },
  {
   "cell_type": "code",
   "execution_count": 6,
   "id": "4d224c8f",
   "metadata": {},
   "outputs": [
    {
     "data": {
      "text/plain": [
       "Index(['Sequecence', 'Book', 'Series', 'Release number', 'Author',\n",
       "       'Description', 'Num Pages', 'Format', 'Genres', 'Publication Date',\n",
       "       'Rating', 'Number of voters'],\n",
       "      dtype='object')"
      ]
     },
     "execution_count": 6,
     "metadata": {},
     "output_type": "execute_result"
    }
   ],
   "source": [
    "df.columns"
   ]
  },
  {
   "cell_type": "code",
   "execution_count": 7,
   "id": "09929011",
   "metadata": {},
   "outputs": [
    {
     "data": {
      "text/html": [
       "<div>\n",
       "<style scoped>\n",
       "    .dataframe tbody tr th:only-of-type {\n",
       "        vertical-align: middle;\n",
       "    }\n",
       "\n",
       "    .dataframe tbody tr th {\n",
       "        vertical-align: top;\n",
       "    }\n",
       "\n",
       "    .dataframe thead th {\n",
       "        text-align: right;\n",
       "    }\n",
       "</style>\n",
       "<table border=\"1\" class=\"dataframe\">\n",
       "  <thead>\n",
       "    <tr style=\"text-align: right;\">\n",
       "      <th></th>\n",
       "      <th>Sequecence</th>\n",
       "      <th>Book</th>\n",
       "      <th>Series</th>\n",
       "      <th>Release number</th>\n",
       "      <th>Author</th>\n",
       "      <th>Description</th>\n",
       "      <th>Num Pages</th>\n",
       "      <th>Format</th>\n",
       "      <th>Genres</th>\n",
       "      <th>Publication Date</th>\n",
       "      <th>Rating</th>\n",
       "      <th>Number of voters</th>\n",
       "    </tr>\n",
       "  </thead>\n",
       "  <tbody>\n",
       "    <tr>\n",
       "      <th>0</th>\n",
       "      <td>0</td>\n",
       "      <td>The Restaurant at the End of the Universe</td>\n",
       "      <td>The Hitchhiker's Guide to the Galaxy</td>\n",
       "      <td>2</td>\n",
       "      <td>Douglas Adams</td>\n",
       "      <td>Facing annihilation at the hands of the warlik...</td>\n",
       "      <td>250.0</td>\n",
       "      <td>Paperback</td>\n",
       "      <td>['Science Fiction', 'Fiction', 'Humor', 'Fanta...</td>\n",
       "      <td>October 12, 1980</td>\n",
       "      <td>4.21</td>\n",
       "      <td>283375</td>\n",
       "    </tr>\n",
       "    <tr>\n",
       "      <th>1</th>\n",
       "      <td>1</td>\n",
       "      <td>The Name of the Rose</td>\n",
       "      <td>0</td>\n",
       "      <td>0</td>\n",
       "      <td>Umberto Eco</td>\n",
       "      <td>The year is 1327. Benedictines in a wealthy It...</td>\n",
       "      <td>536.0</td>\n",
       "      <td>Paperback</td>\n",
       "      <td>['Fiction', 'Historical Fiction', 'Mystery', '...</td>\n",
       "      <td>January 1, 1980</td>\n",
       "      <td>4.14</td>\n",
       "      <td>360732</td>\n",
       "    </tr>\n",
       "    <tr>\n",
       "      <th>2</th>\n",
       "      <td>2</td>\n",
       "      <td>The Clan of the Cave Bear</td>\n",
       "      <td>Earth's Children</td>\n",
       "      <td>1</td>\n",
       "      <td>Jean M. Auel</td>\n",
       "      <td>This novel of awesome beauty and power is a mo...</td>\n",
       "      <td>512.0</td>\n",
       "      <td>Paperback</td>\n",
       "      <td>['Historical Fiction', 'Fiction', 'Fantasy', '...</td>\n",
       "      <td>January 1, 1980</td>\n",
       "      <td>04.09</td>\n",
       "      <td>264630</td>\n",
       "    </tr>\n",
       "    <tr>\n",
       "      <th>3</th>\n",
       "      <td>3</td>\n",
       "      <td>Firestarter</td>\n",
       "      <td>0</td>\n",
       "      <td>0</td>\n",
       "      <td>Stephen King</td>\n",
       "      <td>The Department of Scientific Intelligence (aka...</td>\n",
       "      <td>564.0</td>\n",
       "      <td>Mass Market Paperback</td>\n",
       "      <td>['Horror', 'Fiction', 'Thriller', 'Science Fic...</td>\n",
       "      <td>September 29, 1980</td>\n",
       "      <td>3.91</td>\n",
       "      <td>226270</td>\n",
       "    </tr>\n",
       "    <tr>\n",
       "      <th>4</th>\n",
       "      <td>4</td>\n",
       "      <td>Cosmos</td>\n",
       "      <td>0</td>\n",
       "      <td>0</td>\n",
       "      <td>Carl Sagan</td>\n",
       "      <td>The story of fifteen billion years of cosmic e...</td>\n",
       "      <td>384.0</td>\n",
       "      <td>Mass Market Paperback</td>\n",
       "      <td>['Science', 'Nonfiction', 'Physics', 'Astronom...</td>\n",
       "      <td>January 1, 1980</td>\n",
       "      <td>4.39</td>\n",
       "      <td>144686</td>\n",
       "    </tr>\n",
       "  </tbody>\n",
       "</table>\n",
       "</div>"
      ],
      "text/plain": [
       "   Sequecence                                       Book  \\\n",
       "0           0  The Restaurant at the End of the Universe   \n",
       "1           1                       The Name of the Rose   \n",
       "2           2                  The Clan of the Cave Bear   \n",
       "3           3                                Firestarter   \n",
       "4           4                                     Cosmos   \n",
       "\n",
       "                                 Series Release number         Author  \\\n",
       "0  The Hitchhiker's Guide to the Galaxy              2  Douglas Adams   \n",
       "1                                     0              0    Umberto Eco   \n",
       "2                      Earth's Children              1   Jean M. Auel   \n",
       "3                                     0              0   Stephen King   \n",
       "4                                     0              0     Carl Sagan   \n",
       "\n",
       "                                         Description  Num Pages  \\\n",
       "0  Facing annihilation at the hands of the warlik...      250.0   \n",
       "1  The year is 1327. Benedictines in a wealthy It...      536.0   \n",
       "2  This novel of awesome beauty and power is a mo...      512.0   \n",
       "3  The Department of Scientific Intelligence (aka...      564.0   \n",
       "4  The story of fifteen billion years of cosmic e...      384.0   \n",
       "\n",
       "                  Format                                             Genres  \\\n",
       "0              Paperback  ['Science Fiction', 'Fiction', 'Humor', 'Fanta...   \n",
       "1              Paperback  ['Fiction', 'Historical Fiction', 'Mystery', '...   \n",
       "2              Paperback  ['Historical Fiction', 'Fiction', 'Fantasy', '...   \n",
       "3  Mass Market Paperback  ['Horror', 'Fiction', 'Thriller', 'Science Fic...   \n",
       "4  Mass Market Paperback  ['Science', 'Nonfiction', 'Physics', 'Astronom...   \n",
       "\n",
       "     Publication Date Rating  Number of voters  \n",
       "0    October 12, 1980   4.21            283375  \n",
       "1     January 1, 1980   4.14            360732  \n",
       "2     January 1, 1980  04.09            264630  \n",
       "3  September 29, 1980   3.91            226270  \n",
       "4     January 1, 1980   4.39            144686  "
      ]
     },
     "execution_count": 7,
     "metadata": {},
     "output_type": "execute_result"
    }
   ],
   "source": [
    "df.head()"
   ]
  },
  {
   "cell_type": "code",
   "execution_count": 8,
   "id": "179f8535",
   "metadata": {
    "scrolled": true
   },
   "outputs": [
    {
     "data": {
      "text/html": [
       "<div>\n",
       "<style scoped>\n",
       "    .dataframe tbody tr th:only-of-type {\n",
       "        vertical-align: middle;\n",
       "    }\n",
       "\n",
       "    .dataframe tbody tr th {\n",
       "        vertical-align: top;\n",
       "    }\n",
       "\n",
       "    .dataframe thead th {\n",
       "        text-align: right;\n",
       "    }\n",
       "</style>\n",
       "<table border=\"1\" class=\"dataframe\">\n",
       "  <thead>\n",
       "    <tr style=\"text-align: right;\">\n",
       "      <th></th>\n",
       "      <th>Sequecence</th>\n",
       "      <th>Book</th>\n",
       "      <th>Series</th>\n",
       "      <th>Release number</th>\n",
       "      <th>Author</th>\n",
       "      <th>Description</th>\n",
       "      <th>Num Pages</th>\n",
       "      <th>Format</th>\n",
       "      <th>Genres</th>\n",
       "      <th>Publication Date</th>\n",
       "      <th>Rating</th>\n",
       "      <th>Number of voters</th>\n",
       "    </tr>\n",
       "  </thead>\n",
       "  <tbody>\n",
       "    <tr>\n",
       "      <th>4395</th>\n",
       "      <td>4395</td>\n",
       "      <td>Sword Catcher</td>\n",
       "      <td>Sword Catcher</td>\n",
       "      <td>1</td>\n",
       "      <td>Cassandra Clare</td>\n",
       "      <td>In the vibrant city-state of Castellane, the r...</td>\n",
       "      <td>624.0</td>\n",
       "      <td>Hardcover</td>\n",
       "      <td>['Fantasy', 'Romance', 'Adult', 'Young Adult',...</td>\n",
       "      <td>October 10, 2023</td>\n",
       "      <td>3.85</td>\n",
       "      <td>12662</td>\n",
       "    </tr>\n",
       "    <tr>\n",
       "      <th>4396</th>\n",
       "      <td>4396</td>\n",
       "      <td>The Covenant of Water</td>\n",
       "      <td>0</td>\n",
       "      <td>0</td>\n",
       "      <td>Abraham   Verghese</td>\n",
       "      <td>A stunning and magisterial new epic of love, f...</td>\n",
       "      <td>724.0</td>\n",
       "      <td>Hardcover</td>\n",
       "      <td>['Fiction', 'Historical Fiction', 'India', 'Au...</td>\n",
       "      <td>May 2, 2023</td>\n",
       "      <td>4.49</td>\n",
       "      <td>111236</td>\n",
       "    </tr>\n",
       "    <tr>\n",
       "      <th>4397</th>\n",
       "      <td>4397</td>\n",
       "      <td>Poverty, by America</td>\n",
       "      <td>0</td>\n",
       "      <td>0</td>\n",
       "      <td>Matthew Desmond</td>\n",
       "      <td>The Pulitzer Prize–winning, bestselling author...</td>\n",
       "      <td>284.0</td>\n",
       "      <td>Hardcover</td>\n",
       "      <td>['Nonfiction', 'Politics', 'Sociology', 'Histo...</td>\n",
       "      <td>March 21, 2023</td>\n",
       "      <td>4.30</td>\n",
       "      <td>25676</td>\n",
       "    </tr>\n",
       "    <tr>\n",
       "      <th>4398</th>\n",
       "      <td>4398</td>\n",
       "      <td>Finlay Donovan Jumps the Gun</td>\n",
       "      <td>Finlay Donovan</td>\n",
       "      <td>3</td>\n",
       "      <td>Elle Cosimano</td>\n",
       "      <td>Author and single mom Finlay Donovan has been ...</td>\n",
       "      <td>304.0</td>\n",
       "      <td>Hardcover</td>\n",
       "      <td>['Mystery', 'Audiobook', 'Fiction', 'Mystery T...</td>\n",
       "      <td>January 31, 2023</td>\n",
       "      <td>3.82</td>\n",
       "      <td>46020</td>\n",
       "    </tr>\n",
       "    <tr>\n",
       "      <th>4399</th>\n",
       "      <td>4399</td>\n",
       "      <td>Murder Your Employer: The McMasters Guide to H...</td>\n",
       "      <td>0</td>\n",
       "      <td>0</td>\n",
       "      <td>Rupert Holmes</td>\n",
       "      <td>A devilish thriller with a killer concept: The...</td>\n",
       "      <td>389.0</td>\n",
       "      <td>Hardcover</td>\n",
       "      <td>['Mystery', 'Fiction', 'Thriller', 'Mystery Th...</td>\n",
       "      <td>February 21, 2023</td>\n",
       "      <td>3.90</td>\n",
       "      <td>19625</td>\n",
       "    </tr>\n",
       "  </tbody>\n",
       "</table>\n",
       "</div>"
      ],
      "text/plain": [
       "      Sequecence                                               Book  \\\n",
       "4395        4395                                      Sword Catcher   \n",
       "4396        4396                              The Covenant of Water   \n",
       "4397        4397                                Poverty, by America   \n",
       "4398        4398                       Finlay Donovan Jumps the Gun   \n",
       "4399        4399  Murder Your Employer: The McMasters Guide to H...   \n",
       "\n",
       "              Series Release number              Author  \\\n",
       "4395   Sword Catcher              1     Cassandra Clare   \n",
       "4396               0              0  Abraham   Verghese   \n",
       "4397               0              0     Matthew Desmond   \n",
       "4398  Finlay Donovan              3       Elle Cosimano   \n",
       "4399               0              0       Rupert Holmes   \n",
       "\n",
       "                                            Description  Num Pages     Format  \\\n",
       "4395  In the vibrant city-state of Castellane, the r...      624.0  Hardcover   \n",
       "4396  A stunning and magisterial new epic of love, f...      724.0  Hardcover   \n",
       "4397  The Pulitzer Prize–winning, bestselling author...      284.0  Hardcover   \n",
       "4398  Author and single mom Finlay Donovan has been ...      304.0  Hardcover   \n",
       "4399  A devilish thriller with a killer concept: The...      389.0  Hardcover   \n",
       "\n",
       "                                                 Genres   Publication Date  \\\n",
       "4395  ['Fantasy', 'Romance', 'Adult', 'Young Adult',...   October 10, 2023   \n",
       "4396  ['Fiction', 'Historical Fiction', 'India', 'Au...        May 2, 2023   \n",
       "4397  ['Nonfiction', 'Politics', 'Sociology', 'Histo...     March 21, 2023   \n",
       "4398  ['Mystery', 'Audiobook', 'Fiction', 'Mystery T...   January 31, 2023   \n",
       "4399  ['Mystery', 'Fiction', 'Thriller', 'Mystery Th...  February 21, 2023   \n",
       "\n",
       "     Rating  Number of voters  \n",
       "4395   3.85             12662  \n",
       "4396   4.49            111236  \n",
       "4397   4.30             25676  \n",
       "4398   3.82             46020  \n",
       "4399   3.90             19625  "
      ]
     },
     "execution_count": 8,
     "metadata": {},
     "output_type": "execute_result"
    }
   ],
   "source": [
    "df.tail()"
   ]
  },
  {
   "cell_type": "markdown",
   "id": "b65ad2d9",
   "metadata": {},
   "source": [
    "- Books from 1980 to 2023 comprises for 4400 books\n",
    "- The books can be divided publication Year wise"
   ]
  },
  {
   "cell_type": "markdown",
   "id": "45f946fa",
   "metadata": {},
   "source": [
    "## Exploratory Data Analysis"
   ]
  },
  {
   "cell_type": "code",
   "execution_count": 7,
   "id": "2ffc7857",
   "metadata": {},
   "outputs": [
    {
     "data": {
      "text/html": [
       "<div>\n",
       "<style scoped>\n",
       "    .dataframe tbody tr th:only-of-type {\n",
       "        vertical-align: middle;\n",
       "    }\n",
       "\n",
       "    .dataframe tbody tr th {\n",
       "        vertical-align: top;\n",
       "    }\n",
       "\n",
       "    .dataframe thead th {\n",
       "        text-align: right;\n",
       "    }\n",
       "</style>\n",
       "<table border=\"1\" class=\"dataframe\">\n",
       "  <thead>\n",
       "    <tr style=\"text-align: right;\">\n",
       "      <th></th>\n",
       "      <th>Sequecence</th>\n",
       "      <th>Num Pages</th>\n",
       "      <th>Number of voters</th>\n",
       "    </tr>\n",
       "  </thead>\n",
       "  <tbody>\n",
       "    <tr>\n",
       "      <th>count</th>\n",
       "      <td>4400.000000</td>\n",
       "      <td>4366.000000</td>\n",
       "      <td>4.400000e+03</td>\n",
       "    </tr>\n",
       "    <tr>\n",
       "      <th>mean</th>\n",
       "      <td>2199.500000</td>\n",
       "      <td>373.795007</td>\n",
       "      <td>1.422139e+05</td>\n",
       "    </tr>\n",
       "    <tr>\n",
       "      <th>std</th>\n",
       "      <td>1270.314922</td>\n",
       "      <td>175.878588</td>\n",
       "      <td>3.917586e+05</td>\n",
       "    </tr>\n",
       "    <tr>\n",
       "      <th>min</th>\n",
       "      <td>0.000000</td>\n",
       "      <td>2.000000</td>\n",
       "      <td>4.000000e+00</td>\n",
       "    </tr>\n",
       "    <tr>\n",
       "      <th>25%</th>\n",
       "      <td>1099.750000</td>\n",
       "      <td>278.000000</td>\n",
       "      <td>1.265300e+04</td>\n",
       "    </tr>\n",
       "    <tr>\n",
       "      <th>50%</th>\n",
       "      <td>2199.500000</td>\n",
       "      <td>352.000000</td>\n",
       "      <td>4.160300e+04</td>\n",
       "    </tr>\n",
       "    <tr>\n",
       "      <th>75%</th>\n",
       "      <td>3299.250000</td>\n",
       "      <td>440.000000</td>\n",
       "      <td>1.187932e+05</td>\n",
       "    </tr>\n",
       "    <tr>\n",
       "      <th>max</th>\n",
       "      <td>4399.000000</td>\n",
       "      <td>1859.000000</td>\n",
       "      <td>9.848880e+06</td>\n",
       "    </tr>\n",
       "  </tbody>\n",
       "</table>\n",
       "</div>"
      ],
      "text/plain": [
       "        Sequecence    Num Pages  Number of voters\n",
       "count  4400.000000  4366.000000      4.400000e+03\n",
       "mean   2199.500000   373.795007      1.422139e+05\n",
       "std    1270.314922   175.878588      3.917586e+05\n",
       "min       0.000000     2.000000      4.000000e+00\n",
       "25%    1099.750000   278.000000      1.265300e+04\n",
       "50%    2199.500000   352.000000      4.160300e+04\n",
       "75%    3299.250000   440.000000      1.187932e+05\n",
       "max    4399.000000  1859.000000      9.848880e+06"
      ]
     },
     "execution_count": 7,
     "metadata": {},
     "output_type": "execute_result"
    }
   ],
   "source": [
    "df.describe()"
   ]
  },
  {
   "cell_type": "code",
   "execution_count": 9,
   "id": "81921f74",
   "metadata": {},
   "outputs": [
    {
     "data": {
      "text/plain": [
       "100"
      ]
     },
     "execution_count": 9,
     "metadata": {},
     "output_type": "execute_result"
    }
   ],
   "source": [
    "df['Release number'].nunique()"
   ]
  },
  {
   "cell_type": "code",
   "execution_count": 10,
   "id": "9cbf59ae",
   "metadata": {},
   "outputs": [
    {
     "data": {
      "text/plain": [
       "array(['2', '0', '1', '3', '4', '7', '5', '6', '8', '9', '11', '1-3',\n",
       "       '1-2', '32', '1,1', '12', '13', '24', '34', '10', '14', '21',\n",
       "       '1-4', '2,2', '4,1', '3,1', '6,2', '15', '1,4', '8,1', '17',\n",
       "       '21,4', '16', '10,1', '11,2', '12,3', '18', '3-4', '45', '14,4',\n",
       "       '19', '15,2', '0.5', '1,6', '11.5', '16,3', '3,3', '20', '18,5',\n",
       "       '4,4', '1,5', '19,3', '8,9', '23', '5,6', '47', '23,6', '22,6',\n",
       "       '2,1', '24,5', '6,8', '22', '0A', '25', '7,1', '28', '26,5',\n",
       "       '29,6', '8,11', '3,0B', '31,3', '30,1', '9,12', '33', '32,2',\n",
       "       '10,13', '1,15', '34,7', '11,14', '12,16', '7,3', '13,17', '25.5',\n",
       "       '18,4,2002', '38,4', '2,5', '3,8', '3.5', '5,1', '1.5', '2.5',\n",
       "       '8,2', '3.1', '3,2', '3.6', '4.5', '44', '1,13', '2,10.6',\n",
       "       '1,10.5'], dtype=object)"
      ]
     },
     "execution_count": 10,
     "metadata": {},
     "output_type": "execute_result"
    }
   ],
   "source": [
    "df['Release number'].unique()"
   ]
  },
  {
   "cell_type": "markdown",
   "id": "345eb49e",
   "metadata": {},
   "source": [
    "It is not possible to pinpoint the pattern of Release Number. However, it does not have a great significance in a recommendation system."
   ]
  },
  {
   "cell_type": "code",
   "execution_count": 11,
   "id": "23ec14e1",
   "metadata": {},
   "outputs": [],
   "source": [
    "#Cleaning publishing date column\n",
    "c=0\n",
    "for i in range(len(df)):\n",
    "    df['Publication Date'][c] = df['Publication Date'][c].replace(' ','')\n",
    "    c = c + 1"
   ]
  },
  {
   "cell_type": "code",
   "execution_count": 12,
   "id": "582f7db8",
   "metadata": {},
   "outputs": [],
   "source": [
    "#Separating publishing month and year for exploration\n",
    "c = 0\n",
    "df['Publication_Year'] = ''\n",
    "df['Publication_Month'] = ''\n",
    "for i in range(len(df)):\n",
    "    try:\n",
    "        df['Publication_Year'][c] = df['Publication Date'][c].split(',')[1]\n",
    "        df['Publication_Month'][c] = df['Publication Date'][c].split(',')[0]\n",
    "    except:\n",
    "        pass\n",
    "    c = c + 1"
   ]
  },
  {
   "cell_type": "code",
   "execution_count": 13,
   "id": "e2cf0322",
   "metadata": {},
   "outputs": [],
   "source": [
    "import re\n",
    "c = 0\n",
    "for i in range(len(df)):\n",
    "    df['Publication_Month'][c] = re.sub('\\d','',df['Publication_Month'][c])\n",
    "    df['Publication_Month'][c] = re.sub('Published','',df['Publication_Month'][c])\n",
    "    c=c+1\n",
    "    "
   ]
  },
  {
   "cell_type": "code",
   "execution_count": 14,
   "id": "49bdcc5a",
   "metadata": {},
   "outputs": [
    {
     "data": {
      "text/html": [
       "<div>\n",
       "<style scoped>\n",
       "    .dataframe tbody tr th:only-of-type {\n",
       "        vertical-align: middle;\n",
       "    }\n",
       "\n",
       "    .dataframe tbody tr th {\n",
       "        vertical-align: top;\n",
       "    }\n",
       "\n",
       "    .dataframe thead th {\n",
       "        text-align: right;\n",
       "    }\n",
       "</style>\n",
       "<table border=\"1\" class=\"dataframe\">\n",
       "  <thead>\n",
       "    <tr style=\"text-align: right;\">\n",
       "      <th></th>\n",
       "      <th>Sequecence</th>\n",
       "      <th>Book</th>\n",
       "      <th>Series</th>\n",
       "      <th>Release number</th>\n",
       "      <th>Author</th>\n",
       "      <th>Description</th>\n",
       "      <th>Num Pages</th>\n",
       "      <th>Format</th>\n",
       "      <th>Genres</th>\n",
       "      <th>Publication Date</th>\n",
       "      <th>Rating</th>\n",
       "      <th>Number of voters</th>\n",
       "      <th>Publication_Year</th>\n",
       "      <th>Publication_Month</th>\n",
       "    </tr>\n",
       "  </thead>\n",
       "  <tbody>\n",
       "    <tr>\n",
       "      <th>0</th>\n",
       "      <td>0</td>\n",
       "      <td>The Restaurant at the End of the Universe</td>\n",
       "      <td>The Hitchhiker's Guide to the Galaxy</td>\n",
       "      <td>2</td>\n",
       "      <td>Douglas Adams</td>\n",
       "      <td>Facing annihilation at the hands of the warlik...</td>\n",
       "      <td>250.0</td>\n",
       "      <td>Paperback</td>\n",
       "      <td>['Science Fiction', 'Fiction', 'Humor', 'Fanta...</td>\n",
       "      <td>October12,1980</td>\n",
       "      <td>4.21</td>\n",
       "      <td>283375</td>\n",
       "      <td>1980</td>\n",
       "      <td>October</td>\n",
       "    </tr>\n",
       "    <tr>\n",
       "      <th>1</th>\n",
       "      <td>1</td>\n",
       "      <td>The Name of the Rose</td>\n",
       "      <td>0</td>\n",
       "      <td>0</td>\n",
       "      <td>Umberto Eco</td>\n",
       "      <td>The year is 1327. Benedictines in a wealthy It...</td>\n",
       "      <td>536.0</td>\n",
       "      <td>Paperback</td>\n",
       "      <td>['Fiction', 'Historical Fiction', 'Mystery', '...</td>\n",
       "      <td>January1,1980</td>\n",
       "      <td>4.14</td>\n",
       "      <td>360732</td>\n",
       "      <td>1980</td>\n",
       "      <td>January</td>\n",
       "    </tr>\n",
       "    <tr>\n",
       "      <th>2</th>\n",
       "      <td>2</td>\n",
       "      <td>The Clan of the Cave Bear</td>\n",
       "      <td>Earth's Children</td>\n",
       "      <td>1</td>\n",
       "      <td>Jean M. Auel</td>\n",
       "      <td>This novel of awesome beauty and power is a mo...</td>\n",
       "      <td>512.0</td>\n",
       "      <td>Paperback</td>\n",
       "      <td>['Historical Fiction', 'Fiction', 'Fantasy', '...</td>\n",
       "      <td>January1,1980</td>\n",
       "      <td>04.09</td>\n",
       "      <td>264630</td>\n",
       "      <td>1980</td>\n",
       "      <td>January</td>\n",
       "    </tr>\n",
       "    <tr>\n",
       "      <th>3</th>\n",
       "      <td>3</td>\n",
       "      <td>Firestarter</td>\n",
       "      <td>0</td>\n",
       "      <td>0</td>\n",
       "      <td>Stephen King</td>\n",
       "      <td>The Department of Scientific Intelligence (aka...</td>\n",
       "      <td>564.0</td>\n",
       "      <td>Mass Market Paperback</td>\n",
       "      <td>['Horror', 'Fiction', 'Thriller', 'Science Fic...</td>\n",
       "      <td>September29,1980</td>\n",
       "      <td>3.91</td>\n",
       "      <td>226270</td>\n",
       "      <td>1980</td>\n",
       "      <td>September</td>\n",
       "    </tr>\n",
       "    <tr>\n",
       "      <th>4</th>\n",
       "      <td>4</td>\n",
       "      <td>Cosmos</td>\n",
       "      <td>0</td>\n",
       "      <td>0</td>\n",
       "      <td>Carl Sagan</td>\n",
       "      <td>The story of fifteen billion years of cosmic e...</td>\n",
       "      <td>384.0</td>\n",
       "      <td>Mass Market Paperback</td>\n",
       "      <td>['Science', 'Nonfiction', 'Physics', 'Astronom...</td>\n",
       "      <td>January1,1980</td>\n",
       "      <td>4.39</td>\n",
       "      <td>144686</td>\n",
       "      <td>1980</td>\n",
       "      <td>January</td>\n",
       "    </tr>\n",
       "  </tbody>\n",
       "</table>\n",
       "</div>"
      ],
      "text/plain": [
       "   Sequecence                                       Book  \\\n",
       "0           0  The Restaurant at the End of the Universe   \n",
       "1           1                       The Name of the Rose   \n",
       "2           2                  The Clan of the Cave Bear   \n",
       "3           3                                Firestarter   \n",
       "4           4                                     Cosmos   \n",
       "\n",
       "                                 Series Release number         Author  \\\n",
       "0  The Hitchhiker's Guide to the Galaxy              2  Douglas Adams   \n",
       "1                                     0              0    Umberto Eco   \n",
       "2                      Earth's Children              1   Jean M. Auel   \n",
       "3                                     0              0   Stephen King   \n",
       "4                                     0              0     Carl Sagan   \n",
       "\n",
       "                                         Description  Num Pages  \\\n",
       "0  Facing annihilation at the hands of the warlik...      250.0   \n",
       "1  The year is 1327. Benedictines in a wealthy It...      536.0   \n",
       "2  This novel of awesome beauty and power is a mo...      512.0   \n",
       "3  The Department of Scientific Intelligence (aka...      564.0   \n",
       "4  The story of fifteen billion years of cosmic e...      384.0   \n",
       "\n",
       "                  Format                                             Genres  \\\n",
       "0              Paperback  ['Science Fiction', 'Fiction', 'Humor', 'Fanta...   \n",
       "1              Paperback  ['Fiction', 'Historical Fiction', 'Mystery', '...   \n",
       "2              Paperback  ['Historical Fiction', 'Fiction', 'Fantasy', '...   \n",
       "3  Mass Market Paperback  ['Horror', 'Fiction', 'Thriller', 'Science Fic...   \n",
       "4  Mass Market Paperback  ['Science', 'Nonfiction', 'Physics', 'Astronom...   \n",
       "\n",
       "   Publication Date Rating  Number of voters Publication_Year  \\\n",
       "0    October12,1980   4.21            283375             1980   \n",
       "1     January1,1980   4.14            360732             1980   \n",
       "2     January1,1980  04.09            264630             1980   \n",
       "3  September29,1980   3.91            226270             1980   \n",
       "4     January1,1980   4.39            144686             1980   \n",
       "\n",
       "  Publication_Month  \n",
       "0           October  \n",
       "1           January  \n",
       "2           January  \n",
       "3         September  \n",
       "4           January  "
      ]
     },
     "execution_count": 14,
     "metadata": {},
     "output_type": "execute_result"
    }
   ],
   "source": [
    "df.head()"
   ]
  },
  {
   "cell_type": "code",
   "execution_count": 15,
   "id": "49da34f7",
   "metadata": {},
   "outputs": [
    {
     "data": {
      "image/png": "[encoded data removed]",
      "text/plain": [
       "<Figure size 1400x1000 with 2 Axes>"
      ]
     },
     "metadata": {},
     "output_type": "display_data"
    }
   ],
   "source": [
    "#Month-wise and year-wise publications\n",
    "f,axes = plt.subplots(2,1,figsize=(14,10))\n",
    "ax = sns.countplot(x = df['Publication_Month'],ax=axes[0])\n",
    "for i in ax.containers:\n",
    "    ax.bar_label(i)\n",
    "ax = sns.countplot(x = df['Publication_Year'],ax=axes[1])\n",
    "for i in ax.containers:\n",
    "    ax.bar_label(i)\n",
    "    plt.xticks(rotation=90)"
   ]
  },
  {
   "cell_type": "markdown",
   "id": "ebb9b716",
   "metadata": {},
   "source": [
    "- Maximum number of publications happened in January\n",
    "- The top 100 books is not only based on date of publication. It consists of all books from years before 1980 also.\n",
    "\n",
    "So month and year of publication does not play any role in recommendation system."
   ]
  },
  {
   "cell_type": "code",
   "execution_count": 16,
   "id": "ffc8af7a",
   "metadata": {},
   "outputs": [
    {
     "data": {
      "text/plain": [
       "<Axes: xlabel='Num Pages', ylabel='Count'>"
      ]
     },
     "execution_count": 16,
     "metadata": {},
     "output_type": "execute_result"
    },
    {
     "data": {
      "image/png": "[encoded data removed]",
      "text/plain": [
       "<Figure size 640x480 with 1 Axes>"
      ]
     },
     "metadata": {},
     "output_type": "display_data"
    }
   ],
   "source": [
    "#Number of Pages distribution\n",
    "sns.histplot(x = df['Num Pages'], bins=20, kde=True)\n"
   ]
  },
  {
   "cell_type": "markdown",
   "id": "71f68a38",
   "metadata": {},
   "source": [
    "Most number of pages lie between 250 to 500 pages."
   ]
  },
  {
   "cell_type": "code",
   "execution_count": 17,
   "id": "9d4af8b6",
   "metadata": {},
   "outputs": [
    {
     "data": {
      "text/plain": [
       "Paperback                    1824\n",
       "Hardcover                    1366\n",
       "Mass Market Paperback         717\n",
       "Kindle Edition                265\n",
       "ebook                         129\n",
       "Nook                           14\n",
       "Audio CD                       11\n",
       "Library Binding                 9\n",
       "Board book                      6\n",
       "['ebook']                       6\n",
       "Board Book                      6\n",
       "Audio Cassette                  5\n",
       "Trade Paperback                 5\n",
       "['Paperback']                   4\n",
       "['Audio Cassette']              4\n",
       "['Audio CD']                    3\n",
       "Unknown Binding                 2\n",
       "Audiobook                       2\n",
       "['Mass Market Paperback']       2\n",
       "['315 pages']                   1\n",
       "['688 pages']                   1\n",
       "['309 pages']                   1\n",
       "['295 pages']                   1\n",
       "['244 pages']                   1\n",
       "['297 pages']                   1\n",
       "['335 pages']                   1\n",
       "['147 pages']                   1\n",
       "['400 pages']                   1\n",
       "['30 pages']                    1\n",
       "['502 pages']                   1\n",
       "Print                           1\n",
       "Slipcased Hardcover             1\n",
       "['290 pages']                   1\n",
       "['Hardcover']                   1\n",
       "paper                           1\n",
       "Broschiert                      1\n",
       "hardcover                       1\n",
       "['112 pages']                   1\n",
       "0                               1\n",
       "Name: Format, dtype: int64"
      ]
     },
     "execution_count": 17,
     "metadata": {},
     "output_type": "execute_result"
    }
   ],
   "source": [
    "#Format of book\n",
    "df['Format'].value_counts()"
   ]
  },
  {
   "cell_type": "code",
   "execution_count": 18,
   "id": "7b568936",
   "metadata": {},
   "outputs": [],
   "source": [
    "#Cleaning the types of formats for plotting\n",
    "c = 0\n",
    "for i in range(len(df)):\n",
    "    df['Format'][c] = re.sub(\"['']\",'',df['Format'][c])   \n",
    "    df['Format'][c] = df['Format'][c].replace(\"[\",'')\n",
    "    df['Format'][c] = df['Format'][c].replace(\"]\",'')\n",
    "    c=c+1\n",
    "    "
   ]
  },
  {
   "cell_type": "code",
   "execution_count": 19,
   "id": "e1c4871d",
   "metadata": {},
   "outputs": [],
   "source": [
    "#Cleaning the types of formats for plotting\n",
    "formats = ['Paperback', 'Mass Market Paperback', 'Hardcover',\n",
    "       'Library Binding', 'Kindle Edition', 'hardcover',\n",
    "       'Audio Cassette', 'Board Book', 'Board book', 'Broschiert',\n",
    "       'paper', 'ebook', 'Unknown Binding', 'Trade Paperback', \n",
    "       'Audio CD', 'Audiobook', 'Slipcased Hardcover',\n",
    "       'Print', 'Nook']\n",
    "c = 0\n",
    "for i in range(len(df)):\n",
    "    if df['Format'][c] not in formats:\n",
    "        df['Format'][c] = 'Unknown Binding'\n",
    "    c = c + 1\n",
    "    "
   ]
  },
  {
   "cell_type": "code",
   "execution_count": 20,
   "id": "9d108f73",
   "metadata": {},
   "outputs": [
    {
     "data": {
      "image/png": "[encoded data removed]",
      "text/plain": [
       "<Figure size 1400x400 with 1 Axes>"
      ]
     },
     "metadata": {},
     "output_type": "display_data"
    }
   ],
   "source": [
    "plt.figure(figsize=(14,4))\n",
    "ax = sns.countplot(x = df['Format'])\n",
    "for i in ax.containers:\n",
    "    ax.bar_label(i)\n",
    "    plt.xticks(rotation=90)"
   ]
  },
  {
   "cell_type": "markdown",
   "id": "7a4b75bb",
   "metadata": {},
   "source": [
    "Most formats are in Paperback followed by Hardcover"
   ]
  },
  {
   "cell_type": "code",
   "execution_count": 21,
   "id": "b1f90b43",
   "metadata": {},
   "outputs": [],
   "source": [
    "#Cleaning the rating column\n",
    "c = 0\n",
    "for i in range(len(df)):\n",
    "    try:\n",
    "        df['Rating'][c] = float(df['Rating'][c])\n",
    "    except:\n",
    "        pass\n",
    "    c = c + 1"
   ]
  },
  {
   "cell_type": "code",
   "execution_count": 22,
   "id": "2087808e",
   "metadata": {},
   "outputs": [],
   "source": [
    "#Replacing 'real' rating with median rating\n",
    "x = list(df['Rating'].unique())\n",
    "x.remove('real')\n",
    "import statistics\n",
    "median = statistics.median(x)\n",
    "c = 0\n",
    "for i in range(len(df)):\n",
    "    if df['Rating'][c] == 'real':\n",
    "        df['Rating'][c] = median \n",
    "    c = c + 1"
   ]
  },
  {
   "cell_type": "code",
   "execution_count": 23,
   "id": "0c8dad8e",
   "metadata": {},
   "outputs": [
    {
     "data": {
      "text/plain": [
       "<Axes: xlabel='Number of voters', ylabel='Count'>"
      ]
     },
     "execution_count": 23,
     "metadata": {},
     "output_type": "execute_result"
    },
    {
     "data": {
      "image/png": "[encoded data removed]",
      "text/plain": [
       "<Figure size 1400x400 with 2 Axes>"
      ]
     },
     "metadata": {},
     "output_type": "display_data"
    }
   ],
   "source": [
    "f,axes = plt.subplots(1,2,figsize=(14,4))\n",
    "sns.histplot(x = df['Rating'],bins=20,kde=True,ax=axes[0])\n",
    "sns.histplot(x = df['Number of voters'],bins=20,kde=True,ax=axes[1])"
   ]
  },
  {
   "cell_type": "markdown",
   "id": "487358d0",
   "metadata": {},
   "source": [
    "- Entire ratings lie between 3 to 4.75 indicating neutral to positive sentiments. The distribution is almost normal.\n",
    "- The number of voters has outliers. This column is not significant for a recommendation system."
   ]
  },
  {
   "cell_type": "code",
   "execution_count": 24,
   "id": "f66ba0bf",
   "metadata": {},
   "outputs": [],
   "source": [
    "#Cleaning the Genre column\n",
    "c = 0\n",
    "for j in range(len(df['Genres'])):\n",
    "    x = df['Genres'][c]\n",
    "    p = []\n",
    "    res = x.strip('][').split(',')\n",
    "    for i in res:\n",
    "        i = i.replace(\"'\",'')\n",
    "        i = i.replace(\" \",'')\n",
    "        p.append(i)\n",
    "    df['Genres'][c] = p\n",
    "    c = c + 1"
   ]
  },
  {
   "cell_type": "code",
   "execution_count": 25,
   "id": "bc3b0cbf",
   "metadata": {},
   "outputs": [],
   "source": [
    "#Finding the primary genre \n",
    "df['Primary_Genre'] = ''\n",
    "c = 0\n",
    "for i in range(len(df)):\n",
    "    df['Primary_Genre'][c]=df['Genres'][c][0]\n",
    "    c = c + 1"
   ]
  },
  {
   "cell_type": "code",
   "execution_count": 26,
   "id": "28260b5f",
   "metadata": {},
   "outputs": [
    {
     "data": {
      "text/plain": [
       "Fiction             820\n",
       "Fantasy             789\n",
       "Romance             435\n",
       "Mystery             433\n",
       "YoungAdult          286\n",
       "                   ... \n",
       "GermanLiterature      1\n",
       "Animals               1\n",
       "MiddleGrade           1\n",
       "fiction               1\n",
       "Spirituality          1\n",
       "Name: Primary_Genre, Length: 90, dtype: int64"
      ]
     },
     "execution_count": 26,
     "metadata": {},
     "output_type": "execute_result"
    }
   ],
   "source": [
    "df['Primary_Genre'].value_counts()"
   ]
  },
  {
   "cell_type": "markdown",
   "id": "f50912ef",
   "metadata": {},
   "source": [
    "There are total 90 types of primary genres out of which Fiction, Fantasy and Romance comprise the top 3."
   ]
  },
  {
   "cell_type": "code",
   "execution_count": 27,
   "id": "e6c9a01c",
   "metadata": {},
   "outputs": [],
   "source": [
    "#Dividing decade-wise\n",
    "c = 0\n",
    "df['Decade'] = ''\n",
    "for i in range(len(df)):\n",
    "    if df['Publication_Year'][c] >= '1980' and df['Publication_Year'][c] < '1990':\n",
    "        df['Decade'][c] = '1980s'\n",
    "    elif df['Publication_Year'][c] >= '1990' and df['Publication_Year'][c] < '2000':\n",
    "        df['Decade'][c] = '1990s'\n",
    "    elif df['Publication_Year'][c] >= '2000' and df['Publication_Year'][c] < '2010':\n",
    "        df['Decade'][c] = '2000s'\n",
    "    elif df['Publication_Year'][c] >= '2010' and df['Publication_Year'][c] < '2020':\n",
    "        df['Decade'][c] = '2010s'\n",
    "    elif df['Publication_Year'][c] >= '2020':\n",
    "        df['Decade'][c] = '2020s'\n",
    "    else:\n",
    "        df['Decade'][c] = 'Before 1980'\n",
    "    c = c + 1\n",
    "    "
   ]
  },
  {
   "cell_type": "code",
   "execution_count": 28,
   "id": "f27feb86",
   "metadata": {},
   "outputs": [
    {
     "data": {
      "image/png": "[encoded data removed]",
      "text/plain": [
       "<Figure size 1400x400 with 2 Axes>"
      ]
     },
     "metadata": {},
     "output_type": "display_data"
    }
   ],
   "source": [
    "#Decade-wise distribution and popularity rating\n",
    "f,axes = plt.subplots(1,2, figsize=(14,4))\n",
    "ax = sns.countplot(x = df['Decade'], ax=axes[0])\n",
    "for i in ax.containers:\n",
    "    ax.bar_label(i)\n",
    "ax=sns.barplot(x = df['Decade'], y = df['Rating'], ax=axes[1])\n",
    "for i in ax.containers:\n",
    "    ax.bar_label(i)"
   ]
  },
  {
   "cell_type": "markdown",
   "id": "f401fb9d",
   "metadata": {},
   "source": [
    "- Highest number of publications happened during 2000s.\n",
    "- It has the lowest mean rating after the books published before 1980s."
   ]
  },
  {
   "cell_type": "code",
   "execution_count": 29,
   "id": "af363d10",
   "metadata": {},
   "outputs": [
    {
     "data": {
      "text/plain": [
       "0                                      2171\n",
       "Chronicles of Brother Cadfael            19\n",
       "In Death                                 16\n",
       "Redwall                                  15\n",
       "Vorkosigan Saga                          14\n",
       "                                       ... \n",
       "The Princesses of Westfalin Trilogy       1\n",
       "Mrs. Murphy                               1\n",
       "The Strain Trilogy                        1\n",
       "Glass                                     1\n",
       "Sword Catcher                             1\n",
       "Name: Series, Length: 1117, dtype: int64"
      ]
     },
     "execution_count": 29,
     "metadata": {},
     "output_type": "execute_result"
    }
   ],
   "source": [
    "#Series\n",
    "df['Series'].value_counts()"
   ]
  },
  {
   "cell_type": "markdown",
   "id": "325e7a9f",
   "metadata": {},
   "source": [
    "Series can be combined with book titles as most books are not part of any series"
   ]
  },
  {
   "cell_type": "code",
   "execution_count": 30,
   "id": "95086fb1",
   "metadata": {},
   "outputs": [],
   "source": [
    "#Most publications by decade\n",
    "dec = ['Before 1980','1980s','1990s','2000s','2010s','2020s']\n",
    "top_author = []\n",
    "top_count = []\n",
    "for i in dec:\n",
    "    t=0\n",
    "    dat = df[(df['Decade']==i)] \n",
    "    auth = dict(dat['Author'].value_counts())\n",
    "    for x,y in auth.items():\n",
    "        t=1\n",
    "        top_author.append(x)\n",
    "        top_count.append(y)\n",
    "        if t==1:\n",
    "            break\n",
    "df_auth = pd.DataFrame({'Decade':dec, 'Top Author':top_author, 'Book Count':top_count})"
   ]
  },
  {
   "cell_type": "code",
   "execution_count": 31,
   "id": "c303c18a",
   "metadata": {},
   "outputs": [
    {
     "name": "stdout",
     "output_type": "stream",
     "text": [
      "        Decade        Top Author  Book Count\n",
      "0  Before 1980      Ellis Peters           1\n",
      "1        1980s      Stephen King          20\n",
      "2        1990s      Nora Roberts          29\n",
      "3        2000s  Charlaine Harris          12\n",
      "4        2010s    Colleen Hoover          12\n",
      "5        2020s     Ali Hazelwood           8\n"
     ]
    }
   ],
   "source": [
    "print(df_auth)"
   ]
  },
  {
   "cell_type": "markdown",
   "id": "3d2be389",
   "metadata": {},
   "source": [
    "We can see decade-wise most number of publications by one author"
   ]
  },
  {
   "cell_type": "markdown",
   "id": "2792bcc3",
   "metadata": {},
   "source": [
    "## Data Pre-processing"
   ]
  },
  {
   "cell_type": "code",
   "execution_count": 32,
   "id": "6a7a1738",
   "metadata": {
    "scrolled": true
   },
   "outputs": [
    {
     "data": {
      "text/html": [
       "<div>\n",
       "<style scoped>\n",
       "    .dataframe tbody tr th:only-of-type {\n",
       "        vertical-align: middle;\n",
       "    }\n",
       "\n",
       "    .dataframe tbody tr th {\n",
       "        vertical-align: top;\n",
       "    }\n",
       "\n",
       "    .dataframe thead th {\n",
       "        text-align: right;\n",
       "    }\n",
       "</style>\n",
       "<table border=\"1\" class=\"dataframe\">\n",
       "  <thead>\n",
       "    <tr style=\"text-align: right;\">\n",
       "      <th></th>\n",
       "      <th>Sequecence</th>\n",
       "      <th>Book</th>\n",
       "      <th>Series</th>\n",
       "      <th>Release number</th>\n",
       "      <th>Author</th>\n",
       "      <th>Description</th>\n",
       "      <th>Num Pages</th>\n",
       "      <th>Format</th>\n",
       "      <th>Genres</th>\n",
       "      <th>Publication Date</th>\n",
       "      <th>Rating</th>\n",
       "      <th>Number of voters</th>\n",
       "      <th>Publication_Year</th>\n",
       "      <th>Publication_Month</th>\n",
       "      <th>Primary_Genre</th>\n",
       "      <th>Decade</th>\n",
       "    </tr>\n",
       "  </thead>\n",
       "  <tbody>\n",
       "    <tr>\n",
       "      <th>0</th>\n",
       "      <td>0</td>\n",
       "      <td>The Restaurant at the End of the Universe</td>\n",
       "      <td>The Hitchhiker's Guide to the Galaxy</td>\n",
       "      <td>2</td>\n",
       "      <td>Douglas Adams</td>\n",
       "      <td>Facing annihilation at the hands of the warlik...</td>\n",
       "      <td>250.0</td>\n",
       "      <td>Paperback</td>\n",
       "      <td>[ScienceFiction, Fiction, Humor, Fantasy, Come...</td>\n",
       "      <td>October12,1980</td>\n",
       "      <td>4.21</td>\n",
       "      <td>283375</td>\n",
       "      <td>1980</td>\n",
       "      <td>October</td>\n",
       "      <td>ScienceFiction</td>\n",
       "      <td>1980s</td>\n",
       "    </tr>\n",
       "    <tr>\n",
       "      <th>1</th>\n",
       "      <td>1</td>\n",
       "      <td>The Name of the Rose</td>\n",
       "      <td>0</td>\n",
       "      <td>0</td>\n",
       "      <td>Umberto Eco</td>\n",
       "      <td>The year is 1327. Benedictines in a wealthy It...</td>\n",
       "      <td>536.0</td>\n",
       "      <td>Paperback</td>\n",
       "      <td>[Fiction, HistoricalFiction, Mystery, Classics...</td>\n",
       "      <td>January1,1980</td>\n",
       "      <td>4.14</td>\n",
       "      <td>360732</td>\n",
       "      <td>1980</td>\n",
       "      <td>January</td>\n",
       "      <td>Fiction</td>\n",
       "      <td>1980s</td>\n",
       "    </tr>\n",
       "    <tr>\n",
       "      <th>2</th>\n",
       "      <td>2</td>\n",
       "      <td>The Clan of the Cave Bear</td>\n",
       "      <td>Earth's Children</td>\n",
       "      <td>1</td>\n",
       "      <td>Jean M. Auel</td>\n",
       "      <td>This novel of awesome beauty and power is a mo...</td>\n",
       "      <td>512.0</td>\n",
       "      <td>Paperback</td>\n",
       "      <td>[HistoricalFiction, Fiction, Fantasy, Historic...</td>\n",
       "      <td>January1,1980</td>\n",
       "      <td>4.09</td>\n",
       "      <td>264630</td>\n",
       "      <td>1980</td>\n",
       "      <td>January</td>\n",
       "      <td>HistoricalFiction</td>\n",
       "      <td>1980s</td>\n",
       "    </tr>\n",
       "    <tr>\n",
       "      <th>3</th>\n",
       "      <td>3</td>\n",
       "      <td>Firestarter</td>\n",
       "      <td>0</td>\n",
       "      <td>0</td>\n",
       "      <td>Stephen King</td>\n",
       "      <td>The Department of Scientific Intelligence (aka...</td>\n",
       "      <td>564.0</td>\n",
       "      <td>Mass Market Paperback</td>\n",
       "      <td>[Horror, Fiction, Thriller, ScienceFiction, Fa...</td>\n",
       "      <td>September29,1980</td>\n",
       "      <td>3.91</td>\n",
       "      <td>226270</td>\n",
       "      <td>1980</td>\n",
       "      <td>September</td>\n",
       "      <td>Horror</td>\n",
       "      <td>1980s</td>\n",
       "    </tr>\n",
       "    <tr>\n",
       "      <th>4</th>\n",
       "      <td>4</td>\n",
       "      <td>Cosmos</td>\n",
       "      <td>0</td>\n",
       "      <td>0</td>\n",
       "      <td>Carl Sagan</td>\n",
       "      <td>The story of fifteen billion years of cosmic e...</td>\n",
       "      <td>384.0</td>\n",
       "      <td>Mass Market Paperback</td>\n",
       "      <td>[Science, Nonfiction, Physics, Astronomy, Hist...</td>\n",
       "      <td>January1,1980</td>\n",
       "      <td>4.39</td>\n",
       "      <td>144686</td>\n",
       "      <td>1980</td>\n",
       "      <td>January</td>\n",
       "      <td>Science</td>\n",
       "      <td>1980s</td>\n",
       "    </tr>\n",
       "  </tbody>\n",
       "</table>\n",
       "</div>"
      ],
      "text/plain": [
       "   Sequecence                                       Book  \\\n",
       "0           0  The Restaurant at the End of the Universe   \n",
       "1           1                       The Name of the Rose   \n",
       "2           2                  The Clan of the Cave Bear   \n",
       "3           3                                Firestarter   \n",
       "4           4                                     Cosmos   \n",
       "\n",
       "                                 Series Release number         Author  \\\n",
       "0  The Hitchhiker's Guide to the Galaxy              2  Douglas Adams   \n",
       "1                                     0              0    Umberto Eco   \n",
       "2                      Earth's Children              1   Jean M. Auel   \n",
       "3                                     0              0   Stephen King   \n",
       "4                                     0              0     Carl Sagan   \n",
       "\n",
       "                                         Description  Num Pages  \\\n",
       "0  Facing annihilation at the hands of the warlik...      250.0   \n",
       "1  The year is 1327. Benedictines in a wealthy It...      536.0   \n",
       "2  This novel of awesome beauty and power is a mo...      512.0   \n",
       "3  The Department of Scientific Intelligence (aka...      564.0   \n",
       "4  The story of fifteen billion years of cosmic e...      384.0   \n",
       "\n",
       "                  Format                                             Genres  \\\n",
       "0              Paperback  [ScienceFiction, Fiction, Humor, Fantasy, Come...   \n",
       "1              Paperback  [Fiction, HistoricalFiction, Mystery, Classics...   \n",
       "2              Paperback  [HistoricalFiction, Fiction, Fantasy, Historic...   \n",
       "3  Mass Market Paperback  [Horror, Fiction, Thriller, ScienceFiction, Fa...   \n",
       "4  Mass Market Paperback  [Science, Nonfiction, Physics, Astronomy, Hist...   \n",
       "\n",
       "   Publication Date Rating  Number of voters Publication_Year  \\\n",
       "0    October12,1980   4.21            283375             1980   \n",
       "1     January1,1980   4.14            360732             1980   \n",
       "2     January1,1980   4.09            264630             1980   \n",
       "3  September29,1980   3.91            226270             1980   \n",
       "4     January1,1980   4.39            144686             1980   \n",
       "\n",
       "  Publication_Month      Primary_Genre Decade  \n",
       "0           October     ScienceFiction  1980s  \n",
       "1           January            Fiction  1980s  \n",
       "2           January  HistoricalFiction  1980s  \n",
       "3         September             Horror  1980s  \n",
       "4           January            Science  1980s  "
      ]
     },
     "execution_count": 32,
     "metadata": {},
     "output_type": "execute_result"
    }
   ],
   "source": [
    "df.head()"
   ]
  },
  {
   "cell_type": "markdown",
   "id": "77476dbd",
   "metadata": {},
   "source": [
    "### Keeping columns only significant for recommendation system"
   ]
  },
  {
   "cell_type": "code",
   "execution_count": 76,
   "id": "9d819fc9",
   "metadata": {},
   "outputs": [],
   "source": [
    "df1 = df.copy()"
   ]
  },
  {
   "cell_type": "code",
   "execution_count": 77,
   "id": "7e8d4e2d",
   "metadata": {},
   "outputs": [],
   "source": [
    "#Keeping only significant columns\n",
    "df1 = df1[['Book', 'Series', 'Author',\n",
    "       'Description', 'Num Pages', 'Format', 'Genres','Rating']]"
   ]
  },
  {
   "cell_type": "code",
   "execution_count": 81,
   "id": "6180b372",
   "metadata": {},
   "outputs": [],
   "source": [
    "#Combining Series name with book\n",
    "c = 0\n",
    "df1['Title'] = ''\n",
    "for i in range(len(df1)):\n",
    "    if df1['Series'][c] != '0':\n",
    "        df1['Title'][c] = df1['Series'][c]+':'+df1['Book'][c]\n",
    "    else:\n",
    "        df1['Title'][c] = df1['Book'][c]\n",
    "    c = c + 1"
   ]
  },
  {
   "cell_type": "code",
   "execution_count": 82,
   "id": "c14c41b0",
   "metadata": {},
   "outputs": [
    {
     "data": {
      "text/plain": [
       "80"
      ]
     },
     "execution_count": 82,
     "metadata": {},
     "output_type": "execute_result"
    }
   ],
   "source": [
    "#Checking for duplicate books \n",
    "df1.duplicated(['Title','Author','Num Pages']).sum()"
   ]
  },
  {
   "cell_type": "markdown",
   "id": "ea640e2d",
   "metadata": {},
   "source": [
    "There are 80 books with the same author and same number of pages indicating repetition. These rows can be dropped."
   ]
  },
  {
   "cell_type": "code",
   "execution_count": 85,
   "id": "199becde",
   "metadata": {},
   "outputs": [],
   "source": [
    "df1.drop_duplicates(subset=['Title','Author','Num Pages'], inplace=True)"
   ]
  },
  {
   "cell_type": "code",
   "execution_count": 86,
   "id": "5dbeb398",
   "metadata": {},
   "outputs": [],
   "source": [
    "df1['Description'] = df1['Description'].apply(lambda x: x.split())"
   ]
  },
  {
   "cell_type": "code",
   "execution_count": 87,
   "id": "b1446acb",
   "metadata": {},
   "outputs": [
    {
     "data": {
      "text/html": [
       "<div>\n",
       "<style scoped>\n",
       "    .dataframe tbody tr th:only-of-type {\n",
       "        vertical-align: middle;\n",
       "    }\n",
       "\n",
       "    .dataframe tbody tr th {\n",
       "        vertical-align: top;\n",
       "    }\n",
       "\n",
       "    .dataframe thead th {\n",
       "        text-align: right;\n",
       "    }\n",
       "</style>\n",
       "<table border=\"1\" class=\"dataframe\">\n",
       "  <thead>\n",
       "    <tr style=\"text-align: right;\">\n",
       "      <th></th>\n",
       "      <th>Book</th>\n",
       "      <th>Series</th>\n",
       "      <th>Author</th>\n",
       "      <th>Description</th>\n",
       "      <th>Num Pages</th>\n",
       "      <th>Format</th>\n",
       "      <th>Genres</th>\n",
       "      <th>Rating</th>\n",
       "      <th>Title</th>\n",
       "    </tr>\n",
       "  </thead>\n",
       "  <tbody>\n",
       "    <tr>\n",
       "      <th>0</th>\n",
       "      <td>The Restaurant at the End of the Universe</td>\n",
       "      <td>The Hitchhiker's Guide to the Galaxy</td>\n",
       "      <td>Douglas Adams</td>\n",
       "      <td>[Facing, annihilation, at, the, hands, of, the...</td>\n",
       "      <td>250.0</td>\n",
       "      <td>Paperback</td>\n",
       "      <td>[ScienceFiction, Fiction, Humor, Fantasy, Come...</td>\n",
       "      <td>4.21</td>\n",
       "      <td>The Hitchhiker's Guide to the Galaxy:The Resta...</td>\n",
       "    </tr>\n",
       "    <tr>\n",
       "      <th>1</th>\n",
       "      <td>The Name of the Rose</td>\n",
       "      <td>0</td>\n",
       "      <td>Umberto Eco</td>\n",
       "      <td>[The, year, is, 1327., Benedictines, in, a, we...</td>\n",
       "      <td>536.0</td>\n",
       "      <td>Paperback</td>\n",
       "      <td>[Fiction, HistoricalFiction, Mystery, Classics...</td>\n",
       "      <td>4.14</td>\n",
       "      <td>The Name of the Rose</td>\n",
       "    </tr>\n",
       "    <tr>\n",
       "      <th>2</th>\n",
       "      <td>The Clan of the Cave Bear</td>\n",
       "      <td>Earth's Children</td>\n",
       "      <td>Jean M. Auel</td>\n",
       "      <td>[This, novel, of, awesome, beauty, and, power,...</td>\n",
       "      <td>512.0</td>\n",
       "      <td>Paperback</td>\n",
       "      <td>[HistoricalFiction, Fiction, Fantasy, Historic...</td>\n",
       "      <td>4.09</td>\n",
       "      <td>Earth's Children:The Clan of the Cave Bear</td>\n",
       "    </tr>\n",
       "    <tr>\n",
       "      <th>3</th>\n",
       "      <td>Firestarter</td>\n",
       "      <td>0</td>\n",
       "      <td>Stephen King</td>\n",
       "      <td>[The, Department, of, Scientific, Intelligence...</td>\n",
       "      <td>564.0</td>\n",
       "      <td>Mass Market Paperback</td>\n",
       "      <td>[Horror, Fiction, Thriller, ScienceFiction, Fa...</td>\n",
       "      <td>3.91</td>\n",
       "      <td>Firestarter</td>\n",
       "    </tr>\n",
       "    <tr>\n",
       "      <th>4</th>\n",
       "      <td>Cosmos</td>\n",
       "      <td>0</td>\n",
       "      <td>Carl Sagan</td>\n",
       "      <td>[The, story, of, fifteen, billion, years, of, ...</td>\n",
       "      <td>384.0</td>\n",
       "      <td>Mass Market Paperback</td>\n",
       "      <td>[Science, Nonfiction, Physics, Astronomy, Hist...</td>\n",
       "      <td>4.39</td>\n",
       "      <td>Cosmos</td>\n",
       "    </tr>\n",
       "  </tbody>\n",
       "</table>\n",
       "</div>"
      ],
      "text/plain": [
       "                                        Book  \\\n",
       "0  The Restaurant at the End of the Universe   \n",
       "1                       The Name of the Rose   \n",
       "2                  The Clan of the Cave Bear   \n",
       "3                                Firestarter   \n",
       "4                                     Cosmos   \n",
       "\n",
       "                                 Series         Author  \\\n",
       "0  The Hitchhiker's Guide to the Galaxy  Douglas Adams   \n",
       "1                                     0    Umberto Eco   \n",
       "2                      Earth's Children   Jean M. Auel   \n",
       "3                                     0   Stephen King   \n",
       "4                                     0     Carl Sagan   \n",
       "\n",
       "                                         Description  Num Pages  \\\n",
       "0  [Facing, annihilation, at, the, hands, of, the...      250.0   \n",
       "1  [The, year, is, 1327., Benedictines, in, a, we...      536.0   \n",
       "2  [This, novel, of, awesome, beauty, and, power,...      512.0   \n",
       "3  [The, Department, of, Scientific, Intelligence...      564.0   \n",
       "4  [The, story, of, fifteen, billion, years, of, ...      384.0   \n",
       "\n",
       "                  Format                                             Genres  \\\n",
       "0              Paperback  [ScienceFiction, Fiction, Humor, Fantasy, Come...   \n",
       "1              Paperback  [Fiction, HistoricalFiction, Mystery, Classics...   \n",
       "2              Paperback  [HistoricalFiction, Fiction, Fantasy, Historic...   \n",
       "3  Mass Market Paperback  [Horror, Fiction, Thriller, ScienceFiction, Fa...   \n",
       "4  Mass Market Paperback  [Science, Nonfiction, Physics, Astronomy, Hist...   \n",
       "\n",
       "  Rating                                              Title  \n",
       "0   4.21  The Hitchhiker's Guide to the Galaxy:The Resta...  \n",
       "1   4.14                               The Name of the Rose  \n",
       "2   4.09         Earth's Children:The Clan of the Cave Bear  \n",
       "3   3.91                                        Firestarter  \n",
       "4   4.39                                             Cosmos  "
      ]
     },
     "execution_count": 87,
     "metadata": {},
     "output_type": "execute_result"
    }
   ],
   "source": [
    "df1.head()"
   ]
  },
  {
   "cell_type": "code",
   "execution_count": 89,
   "id": "387ea601",
   "metadata": {},
   "outputs": [],
   "source": [
    "df1 = df1.reset_index(drop=True)"
   ]
  },
  {
   "cell_type": "code",
   "execution_count": 90,
   "id": "b15df55b",
   "metadata": {},
   "outputs": [],
   "source": [
    "#Combining Description, Author, Format and Genres into a single column\n",
    "df1['Book_Info'] = df1['Description']+df1['Genres']\n",
    "c = 0\n",
    "for i in range(len(df1)):\n",
    "    df1['Book_Info'][c].append(df1['Author'][c])\n",
    "    df1['Book_Info'][c].append(df1['Format'][c])\n",
    "    c=c+1"
   ]
  },
  {
   "cell_type": "code",
   "execution_count": 91,
   "id": "cea9669d",
   "metadata": {},
   "outputs": [],
   "source": [
    "#Dropping Redundant columns \n",
    "#As number of pages and rating are not used in Content based recommendation system, we will drop these too\n",
    "df1.drop(columns = ['Series','Book','Author','Format','Description','Genres','Num Pages','Rating'], inplace=True)"
   ]
  },
  {
   "cell_type": "code",
   "execution_count": 92,
   "id": "97a845e5",
   "metadata": {},
   "outputs": [
    {
     "data": {
      "text/html": [
       "<div>\n",
       "<style scoped>\n",
       "    .dataframe tbody tr th:only-of-type {\n",
       "        vertical-align: middle;\n",
       "    }\n",
       "\n",
       "    .dataframe tbody tr th {\n",
       "        vertical-align: top;\n",
       "    }\n",
       "\n",
       "    .dataframe thead th {\n",
       "        text-align: right;\n",
       "    }\n",
       "</style>\n",
       "<table border=\"1\" class=\"dataframe\">\n",
       "  <thead>\n",
       "    <tr style=\"text-align: right;\">\n",
       "      <th></th>\n",
       "      <th>Title</th>\n",
       "      <th>Book_Info</th>\n",
       "    </tr>\n",
       "  </thead>\n",
       "  <tbody>\n",
       "    <tr>\n",
       "      <th>0</th>\n",
       "      <td>The Hitchhiker's Guide to the Galaxy:The Resta...</td>\n",
       "      <td>[Facing, annihilation, at, the, hands, of, the...</td>\n",
       "    </tr>\n",
       "    <tr>\n",
       "      <th>1</th>\n",
       "      <td>The Name of the Rose</td>\n",
       "      <td>[The, year, is, 1327., Benedictines, in, a, we...</td>\n",
       "    </tr>\n",
       "    <tr>\n",
       "      <th>2</th>\n",
       "      <td>Earth's Children:The Clan of the Cave Bear</td>\n",
       "      <td>[This, novel, of, awesome, beauty, and, power,...</td>\n",
       "    </tr>\n",
       "    <tr>\n",
       "      <th>3</th>\n",
       "      <td>Firestarter</td>\n",
       "      <td>[The, Department, of, Scientific, Intelligence...</td>\n",
       "    </tr>\n",
       "    <tr>\n",
       "      <th>4</th>\n",
       "      <td>Cosmos</td>\n",
       "      <td>[The, story, of, fifteen, billion, years, of, ...</td>\n",
       "    </tr>\n",
       "  </tbody>\n",
       "</table>\n",
       "</div>"
      ],
      "text/plain": [
       "                                               Title  \\\n",
       "0  The Hitchhiker's Guide to the Galaxy:The Resta...   \n",
       "1                               The Name of the Rose   \n",
       "2         Earth's Children:The Clan of the Cave Bear   \n",
       "3                                        Firestarter   \n",
       "4                                             Cosmos   \n",
       "\n",
       "                                           Book_Info  \n",
       "0  [Facing, annihilation, at, the, hands, of, the...  \n",
       "1  [The, year, is, 1327., Benedictines, in, a, we...  \n",
       "2  [This, novel, of, awesome, beauty, and, power,...  \n",
       "3  [The, Department, of, Scientific, Intelligence...  \n",
       "4  [The, story, of, fifteen, billion, years, of, ...  "
      ]
     },
     "execution_count": 92,
     "metadata": {},
     "output_type": "execute_result"
    }
   ],
   "source": [
    "df1.head()"
   ]
  },
  {
   "cell_type": "code",
   "execution_count": 93,
   "id": "9da93881",
   "metadata": {},
   "outputs": [
    {
     "data": {
      "text/plain": [
       "Title        0.0\n",
       "Book_Info    0.0\n",
       "dtype: float64"
      ]
     },
     "execution_count": 93,
     "metadata": {},
     "output_type": "execute_result"
    }
   ],
   "source": [
    "df1.isnull().sum()/len(df1)*100"
   ]
  },
  {
   "cell_type": "markdown",
   "id": "cb536c03",
   "metadata": {},
   "source": [
    "No missing values"
   ]
  },
  {
   "cell_type": "markdown",
   "id": "28b80c1c",
   "metadata": {},
   "source": [
    "### Cleaning the book information "
   ]
  },
  {
   "cell_type": "code",
   "execution_count": 94,
   "id": "18f015a5",
   "metadata": {},
   "outputs": [],
   "source": [
    "#Converting all book information into lower case\n",
    "c=0\n",
    "for i in range(len(df1)):\n",
    "    df1['Book_Info'][c] = [w.lower() for w in df1['Book_Info'][c]]\n",
    "    \n",
    "    c=c+1"
   ]
  },
  {
   "cell_type": "code",
   "execution_count": 95,
   "id": "592b5dce",
   "metadata": {},
   "outputs": [],
   "source": [
    "df1['Book_Info'] = df1['Book_Info'].apply(lambda x: \" \".join(x))"
   ]
  },
  {
   "cell_type": "code",
   "execution_count": 96,
   "id": "fe2ba373",
   "metadata": {},
   "outputs": [],
   "source": [
    "#Removing punctuation\n",
    "import string\n",
    "punctuation = list(string.punctuation)\n",
    "c=0\n",
    "for i in range(len(df1)):\n",
    "    df1['Book_Info'][c]\n",
    "    for p in punctuation:\n",
    "        df1['Book_Info'][c] = df1['Book_Info'][c].replace(p,'')\n",
    "    c=c+1"
   ]
  },
  {
   "cell_type": "code",
   "execution_count": 97,
   "id": "fd178fa8",
   "metadata": {},
   "outputs": [
    {
     "data": {
      "text/plain": [
       "'facing annihilation at the hands of the warlike vogons is a curious time to have a cosmically displaced arthur dent and his curious comrades in arms as they hurtle through space powered by pure improbability  and desperately in search of a place to eat among arthurs motley shipmates are ford prefect a longtime friend and contributor to the the hitch hikers guide to the galaxy zaphod beeblebrox the threearmed twoheaded expresident of the galaxy tricia mcmilan a fellow earth refuge whos gone native her name is trillian now and marvin who suffers nothing and no one gladly source douglasadamscom sciencefiction fiction humor fantasy comedy classics sciencefictionfantasy douglas adams paperback'"
      ]
     },
     "execution_count": 97,
     "metadata": {},
     "output_type": "execute_result"
    }
   ],
   "source": [
    "df1['Book_Info'][0]"
   ]
  },
  {
   "cell_type": "markdown",
   "id": "6fcc4231",
   "metadata": {},
   "source": [
    "## Feature Extraction using TF-IDF Vectorizer"
   ]
  },
  {
   "cell_type": "code",
   "execution_count": 98,
   "id": "3ae3e4f5",
   "metadata": {},
   "outputs": [],
   "source": [
    "# vectorize the text data using TfidfVectorizer\n",
    "from sklearn.feature_extraction.text import TfidfVectorizer\n",
    "tfidf = TfidfVectorizer(stop_words='english')"
   ]
  },
  {
   "cell_type": "code",
   "execution_count": 99,
   "id": "fe46528e",
   "metadata": {},
   "outputs": [],
   "source": [
    "vector = tfidf.fit_transform(df1['Book_Info']).toarray()"
   ]
  },
  {
   "cell_type": "code",
   "execution_count": 100,
   "id": "8998434d",
   "metadata": {},
   "outputs": [
    {
     "data": {
      "text/plain": [
       "(4320, 40579)"
      ]
     },
     "execution_count": 100,
     "metadata": {},
     "output_type": "execute_result"
    }
   ],
   "source": [
    "vector.shape"
   ]
  },
  {
   "cell_type": "markdown",
   "id": "943512ca",
   "metadata": {},
   "source": [
    "## Building Content based recommendation system using similarity matrix"
   ]
  },
  {
   "cell_type": "code",
   "execution_count": 101,
   "id": "2d9cb355",
   "metadata": {},
   "outputs": [],
   "source": [
    "from sklearn.metrics.pairwise import cosine_similarity\n",
    "similarity = cosine_similarity(vector)"
   ]
  },
  {
   "cell_type": "code",
   "execution_count": 102,
   "id": "b407e2f9",
   "metadata": {},
   "outputs": [
    {
     "data": {
      "text/plain": [
       "array([[1.00000000e+00, 9.78036690e-03, 5.47294287e-03, ...,\n",
       "        5.25895859e-03, 1.49172091e-03, 6.75280139e-03],\n",
       "       [9.78036690e-03, 1.00000000e+00, 9.40834393e-03, ...,\n",
       "        0.00000000e+00, 4.41761667e-03, 5.23420489e-03],\n",
       "       [5.47294287e-03, 9.40834393e-03, 1.00000000e+00, ...,\n",
       "        2.64686917e-02, 2.34161560e-04, 3.62629335e-03],\n",
       "       ...,\n",
       "       [5.25895859e-03, 0.00000000e+00, 2.64686917e-02, ...,\n",
       "        1.00000000e+00, 2.68596501e-02, 1.28435337e-02],\n",
       "       [1.49172091e-03, 4.41761667e-03, 2.34161560e-04, ...,\n",
       "        2.68596501e-02, 1.00000000e+00, 1.62148826e-02],\n",
       "       [6.75280139e-03, 5.23420489e-03, 3.62629335e-03, ...,\n",
       "        1.28435337e-02, 1.62148826e-02, 1.00000000e+00]])"
      ]
     },
     "execution_count": 102,
     "metadata": {},
     "output_type": "execute_result"
    }
   ],
   "source": [
    "similarity"
   ]
  },
  {
   "cell_type": "code",
   "execution_count": 103,
   "id": "9338102a",
   "metadata": {},
   "outputs": [
    {
     "data": {
      "text/html": [
       "<div>\n",
       "<style scoped>\n",
       "    .dataframe tbody tr th:only-of-type {\n",
       "        vertical-align: middle;\n",
       "    }\n",
       "\n",
       "    .dataframe tbody tr th {\n",
       "        vertical-align: top;\n",
       "    }\n",
       "\n",
       "    .dataframe thead th {\n",
       "        text-align: right;\n",
       "    }\n",
       "</style>\n",
       "<table border=\"1\" class=\"dataframe\">\n",
       "  <thead>\n",
       "    <tr style=\"text-align: right;\">\n",
       "      <th></th>\n",
       "      <th>Title</th>\n",
       "      <th>Book_Info</th>\n",
       "    </tr>\n",
       "  </thead>\n",
       "  <tbody>\n",
       "    <tr>\n",
       "      <th>0</th>\n",
       "      <td>The Hitchhiker's Guide to the Galaxy:The Resta...</td>\n",
       "      <td>facing annihilation at the hands of the warlik...</td>\n",
       "    </tr>\n",
       "    <tr>\n",
       "      <th>1</th>\n",
       "      <td>The Name of the Rose</td>\n",
       "      <td>the year is 1327 benedictines in a wealthy ita...</td>\n",
       "    </tr>\n",
       "    <tr>\n",
       "      <th>2</th>\n",
       "      <td>Earth's Children:The Clan of the Cave Bear</td>\n",
       "      <td>this novel of awesome beauty and power is a mo...</td>\n",
       "    </tr>\n",
       "    <tr>\n",
       "      <th>3</th>\n",
       "      <td>Firestarter</td>\n",
       "      <td>the department of scientific intelligence aka ...</td>\n",
       "    </tr>\n",
       "    <tr>\n",
       "      <th>4</th>\n",
       "      <td>Cosmos</td>\n",
       "      <td>the story of fifteen billion years of cosmic e...</td>\n",
       "    </tr>\n",
       "  </tbody>\n",
       "</table>\n",
       "</div>"
      ],
      "text/plain": [
       "                                               Title  \\\n",
       "0  The Hitchhiker's Guide to the Galaxy:The Resta...   \n",
       "1                               The Name of the Rose   \n",
       "2         Earth's Children:The Clan of the Cave Bear   \n",
       "3                                        Firestarter   \n",
       "4                                             Cosmos   \n",
       "\n",
       "                                           Book_Info  \n",
       "0  facing annihilation at the hands of the warlik...  \n",
       "1  the year is 1327 benedictines in a wealthy ita...  \n",
       "2  this novel of awesome beauty and power is a mo...  \n",
       "3  the department of scientific intelligence aka ...  \n",
       "4  the story of fifteen billion years of cosmic e...  "
      ]
     },
     "execution_count": 103,
     "metadata": {},
     "output_type": "execute_result"
    }
   ],
   "source": [
    "df1.head()"
   ]
  },
  {
   "cell_type": "code",
   "execution_count": 105,
   "id": "01deaf68",
   "metadata": {},
   "outputs": [],
   "source": [
    "#Creating function for top-5 recommendations based on given input\n",
    "def recommendation(book):\n",
    "    index = df1[df1['Title']==book].index[0]\n",
    "    distances = sorted(list(enumerate(similarity[index])), reverse=True,\n",
    "                       key = lambda x :x[1])#Sorting as per descending order of similarity value other than the book itself\n",
    "    for i in distances[1:6]: #Top-5 recommendations\n",
    "        print(df1.iloc[i[0]].Title)"
   ]
  },
  {
   "cell_type": "code",
   "execution_count": 107,
   "id": "af3e2c94",
   "metadata": {},
   "outputs": [],
   "source": [
    "book_name = 'The Name of the Rose'"
   ]
  },
  {
   "cell_type": "code",
   "execution_count": 109,
   "id": "73bcbe0d",
   "metadata": {},
   "outputs": [
    {
     "name": "stdout",
     "output_type": "stream",
     "text": [
      "You last read: The Name of the Rose\n",
      "\n",
      "Top 5 recommendations based on what you read:\n",
      "\n",
      "The Hound and the Falcon:The Isle of Glass\n",
      "How to Travel With a Salmon & Other Essays\n",
      "Postscript to the Name of the Rose\n",
      "Foucault's Pendulum\n",
      "Harvest Book:Travels In Hyperreality\n"
     ]
    }
   ],
   "source": [
    "print(f\"You last read: {book_name}\")\n",
    "print()\n",
    "print('Top 5 recommendations based on what you read:')\n",
    "print()\n",
    "recommendation(book_name)"
   ]
  },
  {
   "cell_type": "code",
   "execution_count": 110,
   "id": "3861e911",
   "metadata": {},
   "outputs": [],
   "source": [
    "book_name = 'Cujo'"
   ]
  },
  {
   "cell_type": "code",
   "execution_count": 112,
   "id": "42136745",
   "metadata": {},
   "outputs": [
    {
     "name": "stdout",
     "output_type": "stream",
     "text": [
      "You last read: Cujo\n",
      "\n",
      "Top 5 recommendations based on what you read:\n",
      "\n",
      "Nemesis\n",
      "Insomnia\n",
      "Time Quintet:Many Waters\n",
      "Jurassic Park:Jurassic Park\n",
      "Last Question and Other Stories\n"
     ]
    }
   ],
   "source": [
    "print(f\"You last read: {book_name}\")\n",
    "print()\n",
    "print('Top 5 recommendations based on what you read:')\n",
    "print()\n",
    "recommendation(book_name)"
   ]
  },
  {
   "cell_type": "code",
   "execution_count": null,
   "id": "f2c9d0a0",
   "metadata": {},
   "outputs": [],
   "source": []
  }
 ],
 "metadata": {
  "kernelspec": {
   "display_name": "Python 3 (ipykernel)",
   "language": "python",
   "name": "python3"
  },
  "language_info": {
   "codemirror_mode": {
    "name": "ipython",
    "version": 3
   },
   "file_extension": ".py",
   "mimetype": "text/x-python",
   "name": "python",
   "nbconvert_exporter": "python",
   "pygments_lexer": "ipython3",
   "version": "3.8.17"
  }
 },
 "nbformat": 4,
 "nbformat_minor": 5
}
